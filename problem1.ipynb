{
 "cells": [
  {
   "cell_type": "code",
   "execution_count": 3,
   "source": [
    "!pip install -e ./gym-env"
   ],
   "outputs": [
    {
     "output_type": "stream",
     "name": "stdout",
     "text": [
      "Obtaining file:///home/naman/courses/cs698/Midsem/gym-env\n",
      "Requirement already satisfied: gym in /home/naman/miniconda3/lib/python3.9/site-packages (from gym-env==1.0.0) (0.19.0)\n",
      "Requirement already satisfied: numpy>=1.18.0 in /home/naman/miniconda3/lib/python3.9/site-packages (from gym->gym-env==1.0.0) (1.20.3)\n",
      "Requirement already satisfied: cloudpickle<1.7.0,>=1.2.0 in /home/naman/miniconda3/lib/python3.9/site-packages (from gym->gym-env==1.0.0) (1.6.0)\n",
      "Installing collected packages: gym-env\n",
      "  Running setup.py develop for gym-env\n",
      "Successfully installed gym-env-1.0.0\n"
     ]
    }
   ],
   "metadata": {}
  },
  {
   "cell_type": "code",
   "execution_count": 1,
   "source": [
    "import gym\n",
    "import numpy as np\n",
    "import gym_env"
   ],
   "outputs": [],
   "metadata": {}
  },
  {
   "cell_type": "code",
   "execution_count": 2,
   "source": [
    "rng = np.random.default_rng(0)"
   ],
   "outputs": [],
   "metadata": {}
  },
  {
   "cell_type": "code",
   "execution_count": 8,
   "source": [
    "def test_rme_transitions(state, action):\n",
    "    env = gym.make('gym:random-maze-env-v0', rng=np.random.default_rng(1))\n",
    "    n_iters = 1000\n",
    "    new_state = {\n",
    "        state-1: 0,\n",
    "        state: 0,\n",
    "        state+1: 0,\n",
    "        state-4: 0,\n",
    "        state+4: 0\n",
    "    }\n",
    "    reward = {\n",
    "        1: 0,\n",
    "        -1: 0,\n",
    "        -0.04: 0\n",
    "    }\n",
    "    for i in range(n_iters):\n",
    "        env.state = state\n",
    "        s, r, done, _ = env.step(action)\n",
    "        new_state[s] += 1\n",
    "        reward[r] += 1\n",
    "\n",
    "    action_list = [\"up\", \"right\", \"bottom\", \"left\"]\n",
    "    print(f's = {state} a = {action_list[action]}')\n",
    "\n",
    "    for k, v in new_state.items():\n",
    "        if v != 0:\n",
    "            print(f\"s' = {k} p = {v / n_iters}\")\n",
    "\n",
    "    for k, v in reward.items():\n",
    "        if v != 0:\n",
    "            print(f\"r = {k} p = {v / n_iters}\")\n"
   ],
   "outputs": [],
   "metadata": {}
  },
  {
   "cell_type": "code",
   "execution_count": 9,
   "source": [
    "test_rme_transitions(0, 0)"
   ],
   "outputs": [
    {
     "output_type": "stream",
     "name": "stdout",
     "text": [
      "s = 0 a = up\n",
      "s' = 0 p = 0.892\n",
      "s' = 1 p = 0.108\n",
      "r = -0.04 p = 1.0\n"
     ]
    }
   ],
   "metadata": {}
  },
  {
   "cell_type": "code",
   "execution_count": 10,
   "source": [
    "test_rme_transitions(2, 0)"
   ],
   "outputs": [
    {
     "output_type": "stream",
     "name": "stdout",
     "text": [
      "s = 2 a = up\n",
      "s' = 1 p = 0.108\n",
      "s' = 2 p = 0.784\n",
      "s' = 3 p = 0.108\n",
      "r = 1 p = 0.108\n",
      "r = -0.04 p = 0.892\n"
     ]
    }
   ],
   "metadata": {}
  },
  {
   "cell_type": "code",
   "execution_count": 13,
   "source": [
    "test_rme_transitions(11, 1)"
   ],
   "outputs": [
    {
     "output_type": "stream",
     "name": "stdout",
     "text": [
      "s = 11 a = right\n",
      "s' = 11 p = 0.892\n",
      "s' = 7 p = 0.108\n",
      "r = -1 p = 0.108\n",
      "r = -0.04 p = 0.892\n"
     ]
    }
   ],
   "metadata": {}
  },
  {
   "cell_type": "code",
   "execution_count": 15,
   "source": [
    "test_rme_transitions(4, 2)"
   ],
   "outputs": [
    {
     "output_type": "stream",
     "name": "stdout",
     "text": [
      "s = 4 a = bottom\n",
      "s' = 4 p = 0.216\n",
      "s' = 8 p = 0.784\n",
      "r = -0.04 p = 1.0\n"
     ]
    }
   ],
   "metadata": {}
  },
  {
   "cell_type": "code",
   "execution_count": 16,
   "source": [
    "test_rme_transitions(6, 3)"
   ],
   "outputs": [
    {
     "output_type": "stream",
     "name": "stdout",
     "text": [
      "s = 6 a = left\n",
      "s' = 6 p = 0.784\n",
      "s' = 2 p = 0.108\n",
      "s' = 10 p = 0.108\n",
      "r = -0.04 p = 1.0\n"
     ]
    }
   ],
   "metadata": {}
  },
  {
   "cell_type": "code",
   "execution_count": null,
   "source": [],
   "outputs": [],
   "metadata": {}
  }
 ],
 "metadata": {
  "orig_nbformat": 4,
  "language_info": {
   "name": "python",
   "version": "3.9.6",
   "mimetype": "text/x-python",
   "codemirror_mode": {
    "name": "ipython",
    "version": 3
   },
   "pygments_lexer": "ipython3",
   "nbconvert_exporter": "python",
   "file_extension": ".py"
  },
  "kernelspec": {
   "name": "python3",
   "display_name": "Python 3.9.6 64-bit ('base': conda)"
  },
  "interpreter": {
   "hash": "0d4d912fbce12427c141c51945610219055bd459fd76790fb88b88be3bedd6d6"
  }
 },
 "nbformat": 4,
 "nbformat_minor": 2
}